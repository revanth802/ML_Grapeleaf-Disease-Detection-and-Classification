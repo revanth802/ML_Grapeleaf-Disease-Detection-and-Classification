{
 "cells": [
  {
   "cell_type": "code",
   "execution_count": 1,
   "metadata": {},
   "outputs": [
    {
     "name": "stderr",
     "output_type": "stream",
     "text": [
      "Using TensorFlow backend.\n"
     ]
    },
    {
     "name": "stdout",
     "output_type": "stream",
     "text": [
      "['black_measles', 'black_rot', 'healthy', 'leaf_blight']\n"
     ]
    }
   ],
   "source": [
    "import sklearn\n",
    "import numpy as np \n",
    "import pandas as pd \n",
    "import matplotlib.pyplot as plt\n",
    "%matplotlib inline\n",
    "import tensorflow as tf\n",
    "import keras\n",
    "import glob\n",
    "import cv2\n",
    "import os\n",
    "print(os.listdir(\"/Users/revan/Desktop/257/train+val\"))"
   ]
  },
  {
   "cell_type": "code",
   "execution_count": 2,
   "metadata": {},
   "outputs": [
    {
     "data": {
      "text/plain": [
       "array(['black_measles', 'black_measles', 'black_measles', ...,\n",
       "       'leaf_blight', 'leaf_blight', 'leaf_blight'], dtype='<U13')"
      ]
     },
     "execution_count": 2,
     "metadata": {},
     "output_type": "execute_result"
    }
   ],
   "source": [
    "fruit_images = []\n",
    "labels = [] \n",
    "for fruit_dir_path in glob.glob(\"/Users/revan/Desktop/257/train+val/*\"):\n",
    "    fruit_label = fruit_dir_path.split(\"\\\\\")[-1]\n",
    "    for image_path in glob.glob(os.path.join(fruit_dir_path, \"*.jpg\")):\n",
    "        image = cv2.imread(image_path, cv2.IMREAD_COLOR)\n",
    "        image = cv2.cvtColor(image, cv2.COLOR_RGB2GRAY) \n",
    "        fruit_images.append(image)\n",
    "        labels.append(fruit_label)\n",
    "fruit_images = np.array(fruit_images)\n",
    "fruit_images = fruit_images.reshape(len(fruit_images),-1)\n",
    "labels = np.array(labels)\n",
    "labels"
   ]
  },
  {
   "cell_type": "code",
   "execution_count": 3,
   "metadata": {},
   "outputs": [
    {
     "name": "stdout",
     "output_type": "stream",
     "text": [
      "(4071, 65536)\n"
     ]
    }
   ],
   "source": [
    "print(np.shape(fruit_images))\n",
    "# print(fruit_images)\n",
    "# print(labels)"
   ]
  },
  {
   "cell_type": "code",
   "execution_count": 9,
   "metadata": {},
   "outputs": [
    {
     "data": {
      "text/plain": [
       "SVC(C=1.0, break_ties=False, cache_size=200, class_weight=None, coef0=0.0,\n",
       "    decision_function_shape='ovo', degree=3, gamma='scale', kernel='rbf',\n",
       "    max_iter=-1, probability=True, random_state=None, shrinking=True, tol=0.001,\n",
       "    verbose=False)"
      ]
     },
     "execution_count": 9,
     "metadata": {},
     "output_type": "execute_result"
    }
   ],
   "source": [
    "from sklearn import svm\n",
    "\n",
    "clf = svm.SVC(decision_function_shape='ovo',probability=True)\n",
    "\n",
    "clf.fit(grape_images, labels)"
   ]
  },
  {
   "cell_type": "code",
   "execution_count": null,
   "metadata": {},
   "outputs": [],
   "source": []
  },
  {
   "cell_type": "code",
   "execution_count": 11,
   "metadata": {},
   "outputs": [
    {
     "name": "stdout",
     "output_type": "stream",
     "text": [
      "811\n",
      "667\n",
      "Accuracy is  0.8224414303329223\n"
     ]
    }
   ],
   "source": [
    "count=0 \n",
    "total = np.shape(validation_grape_images)[0]\n",
    "print(total)\n",
    "for i in range(total):\n",
    "    check=clf.predict([validation_grape_images[i]])\n",
    "    if check[0] == validation_labels[i] :\n",
    "        count += 1\n",
    "print(count)\n",
    "print(\"Accuracy is \", count/total)"
   ]
  },
  {
   "cell_type": "code",
   "execution_count": 12,
   "metadata": {},
   "outputs": [
    {
     "name": "stdout",
     "output_type": "stream",
     "text": [
      "Confusion matrix\n",
      "Classification report\n",
      "               precision    recall  f1-score   support\n",
      "\n",
      "black_measles       0.82      0.84      0.83       269\n",
      "    black_rot       0.77      0.74      0.76       243\n",
      "      healthy       0.89      0.97      0.93        77\n",
      "  leaf_blight       0.87      0.84      0.85       222\n",
      "\n",
      "     accuracy                           0.82       811\n",
      "    macro avg       0.84      0.85      0.84       811\n",
      " weighted avg       0.82      0.82      0.82       811\n",
      "\n"
     ]
    },
    {
     "data": {
      "image/png": "[encoded data removed]",
      "text/plain": [
       "<Figure size 432x288 with 2 Axes>"
      ]
     },
     "metadata": {
      "needs_background": "light"
     },
     "output_type": "display_data"
    }
   ],
   "source": [
    "# Testing the data\n",
    "\n",
    "from sklearn.model_selection import cross_val_score\n",
    "from sklearn.metrics import classification_report,confusion_matrix,plot_confusion_matrix\n",
    "\n",
    "predicted_result = clf.predict(validation_fruit_images)\n",
    "\n",
    "print(\"Confusion matrix\")\n",
    "plot_confusion_matrix(clf,validation_fruit_images,validation_labels,display_labels=['BM','BR','H','LB'],normalize=\"true\",cmap=plt.cm.Blues,)\n",
    "\n",
    "print(\"Classification report\")\n",
    "print(classification_report(predicted_result,validation_labels))\n",
    "\n",
    "\n"
   ]
  },
  {
   "cell_type": "code",
   "execution_count": null,
   "metadata": {},
   "outputs": [],
   "source": [
    "from sklearn.model_selection import cross_val_predict\n",
    "\n",
    "y_train_black_measles= ( labels == 'black_measles') \n",
    "y_train_black_rot=(labels == 'black_rot')\n",
    "y_train_leaf_blight=(labels == 'leaf_blight')\n",
    "y_train_healthy=(labels == 'healthy')\n",
    "\n",
    "y_test_black_measles = (validation_labels == 'black_measles')\n",
    "y_test_black_rot = (validation_labels == 'black_rot')\n",
    "y_test_leaf_blight = (validation_labels == 'leaf_blight')\n",
    "y_test_healthy = (validation_labels == 'healthy')\n",
    "\n",
    "y_probas_forest = cross_val_predict(clf, fruit_images,\n",
    "                                    y_train_black_measles, cv=3,\n",
    "                                    method=\"predict_proba\")\n",
    "y_probas_forest2 = cross_val_predict(clf, fruit_images,\n",
    "                                    y_train_black_rot, cv=3,\n",
    "                                    method=\"predict_proba\")\n",
    "y_probas_forest3 = cross_val_predict(clf, fruit_images,\n",
    "                                    y_train_healthy, cv=3,\n",
    "                                    method=\"predict_proba\")\n",
    "y_probas_forest4 = cross_val_predict(clf, fruit_images,\n",
    "                                    y_train_leaf_blight, cv=3,\n",
    "                                    method=\"predict_proba\")\n",
    "\n",
    "y_scores_forest = y_probas_forest[:, 1] \n",
    "y_scores_forest2 = y_probas_forest2[:, 1]\n",
    "y_scores_forest3 = y_probas_forest3[:, 1]\n",
    "y_scores_forest4 = y_probas_forest4[:, 1]\n"
   ]
  },
  {
   "cell_type": "code",
   "execution_count": null,
   "metadata": {},
   "outputs": [],
   "source": []
  },
  {
   "cell_type": "code",
   "execution_count": null,
   "metadata": {},
   "outputs": [],
   "source": [
    "#Training\n",
    "from sklearn.metrics import roc_curve\n",
    "from sklearn.metrics import roc_auc_score\n",
    "\n",
    "\n",
    "def plot_roc_curve(fpr, tpr, label =\"Random Forest\"):\n",
    "    plt.plot(fpr, tpr, linewidth=2, label=label)\n",
    "    \n",
    "    plt.plot([0, 1], [0, 1], 'k--')\n",
    "    plt.axis([0, 1, 0, 1])\n",
    "    plt.xlabel('False Positive Rate')\n",
    "    plt.ylabel('True Positive Rate')\n",
    "\n",
    "fpr, tpr, thresholds = roc_curve(y_train_black_measles, \n",
    "                                                      y_scores_forest)\n",
    "\n",
    "fpr2, tpr2, thresholds = roc_curve(y_train_black_rot, \n",
    "                                                      y_scores_forest2)\n",
    "\n",
    "fpr3, tpr3, thresholds = roc_curve(y_train_healthy, \n",
    "                                                      y_scores_forest3)\n",
    "\n",
    "fpr4, tpr4, thresholds = roc_curve(y_train_leaf_blight, \n",
    "                                                      y_scores_forest4)\n",
    "plot_roc_curve(fpr, tpr, \"Black Measles: AUC-\"+str(roc_auc_score(y_train_black_measles, y_scores_forest)))\n",
    "plot_roc_curve(fpr2, tpr2, \"Black Rot: AUC-\"+str(roc_auc_score(y_train_black_rot, y_scores_forest2)))\n",
    "plot_roc_curve(fpr3, tpr3, \"Healthy: AUC-\"+str(roc_auc_score(y_train_healthy, y_scores_forest3)))\n",
    "plot_roc_curve(fpr4, tpr4, \"Leaf Blight: AUC-\"+str(roc_auc_score(y_train_leaf_blight, y_scores_forest4)))\n",
    "\n",
    "plt.legend(loc=\"lower right\")\n",
    "\n",
    "plt.show()"
   ]
  },
  {
   "cell_type": "code",
   "execution_count": null,
   "metadata": {},
   "outputs": [],
   "source": [
    "#testing\n",
    "from sklearn.metrics import roc_curve\n",
    "from sklearn.metrics import roc_auc_score\n",
    "\n",
    "\n",
    "def plot_roc_curve(fpr, tpr, label =\"Random Forest\"):\n",
    "    plt.plot(fpr, tpr, linewidth=2, label=label)\n",
    "    \n",
    "    plt.plot([0, 1], [0, 1], 'k--')\n",
    "    plt.axis([0, 1, 0, 1])\n",
    "    plt.xlabel('False Positive Rate')\n",
    "    plt.ylabel('True Positive Rate')\n",
    "\n",
    "fpr, tpr, thresholds = roc_curve(y_test_black_measles, \n",
    "                                                      y_scores_forest)\n",
    "\n",
    "fpr2, tpr2, thresholds = roc_curve(y_test_black_rot, \n",
    "                                                      y_scores_forest2)\n",
    "\n",
    "fpr3, tpr3, thresholds = roc_curve(y_test_healthy, \n",
    "                                                      y_scores_forest3)\n",
    "\n",
    "fpr4, tpr4, thresholds = roc_curve(y_test_leaf_blight, \n",
    "                                                      y_scores_forest4)\n",
    "plot_roc_curve(fpr, tpr, \"Black Measles: AUC-\"+str(roc_auc_score(y_test_black_measles, y_scores_forest)))\n",
    "plot_roc_curve(fpr2, tpr2, \"Black Rot: AUC-\"+str(roc_auc_score(y_test_black_rot, y_scores_forest2)))\n",
    "plot_roc_curve(fpr3, tpr3, \"Healthy: AUC-\"+str(roc_auc_score(y_test_healthy, y_scores_forest3)))\n",
    "plot_roc_curve(fpr4, tpr4, \"Leaf Blight: AUC-\"+str(roc_auc_score(y_test_leaf_blight, y_scores_forest4)))\n",
    "\n",
    "plt.legend(loc=\"lower right\")\n",
    "\n",
    "plt.show()"
   ]
  }
 ],
 "metadata": {
  "kernelspec": {
   "display_name": "Python 3",
   "language": "python",
   "name": "python3"
  },
  "language_info": {
   "codemirror_mode": {
    "name": "ipython",
    "version": 3
   },
   "file_extension": ".py",
   "mimetype": "text/x-python",
   "name": "python",
   "nbconvert_exporter": "python",
   "pygments_lexer": "ipython3",
   "version": "3.7.1"
  }
 },
 "nbformat": 4,
 "nbformat_minor": 2
}
